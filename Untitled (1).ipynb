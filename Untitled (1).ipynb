{
 "cells": [
  {
   "cell_type": "code",
   "execution_count": null,
   "id": "7adbf59a-bf66-467f-b3a5-8a891148e9a6",
   "metadata": {},
   "outputs": [],
   "source": [
    "# Q1.ANS=>\n",
    "'''open() function is used to open a file like  open(filename,opening mode).\n",
    "file can be opened in mode to write in it , read to it, appending data to it , etc\n",
    "\n",
    "'r' - open for reading\n",
    "'w' - open for writing and clear data those present in it and write (truncating the file first)\n",
    "'x' - create a new file and open it for writing\n",
    "'a' - open for writing ,appending to the end of file if it exist\n",
    "'t' - open in text mode \n",
    "'+' - open disk for updating (read and write)\n",
    "'u' - universal newline mode '''"
   ]
  },
  {
   "cell_type": "code",
   "execution_count": 13,
   "id": "8ac19fa7-cce4-456a-b1e1-9955b3152b67",
   "metadata": {},
   "outputs": [
    {
     "data": {
      "text/plain": [
       "''"
      ]
     },
     "execution_count": 13,
     "metadata": {},
     "output_type": "execute_result"
    }
   ],
   "source": [
    "# Q2.ANS=>\n",
    "'''close() function is used to close a file, if we had not use close() function then file will not closed hence data we want to store \n",
    "will not store in that file until the file closed therefore we should close file to see our data in that file'''\n",
    "a=open('test1.txt','w')\n",
    "a.write('this file is not closed yet')\n",
    "b=open('test1.txt','r')\n",
    "b.read()"
   ]
  },
  {
   "cell_type": "code",
   "execution_count": null,
   "id": "bd349f89-a337-4d03-856d-1099ee9a3776",
   "metadata": {},
   "outputs": [],
   "source": [
    "Q3. Write a python program to create a text file. Write ‘I want to become a Data Scientist’ in that file. Then\n",
    "close the file. Open this file and read the content of the file."
   ]
  },
  {
   "cell_type": "code",
   "execution_count": 17,
   "id": "662b05dc-441c-4fde-9ee3-fb4c5ceba610",
   "metadata": {},
   "outputs": [
    {
     "data": {
      "text/plain": [
       "'I want to become a Data Scientist'"
      ]
     },
     "execution_count": 17,
     "metadata": {},
     "output_type": "execute_result"
    }
   ],
   "source": [
    "# Q3.ANS=>\n",
    "\n",
    "a=open('test1.txt','w')\n",
    "a.write('I want to become a Data Scientist')\n",
    "a.close()\n",
    "b=open('test1.txt','r')\n",
    "b.read()"
   ]
  },
  {
   "cell_type": "code",
   "execution_count": 47,
   "id": "f7bbd964-9b41-479a-bb57-b860f91bb13e",
   "metadata": {},
   "outputs": [],
   "source": [
    "# Q4.ANS=>\n",
    "'''Python readline() method will return a line from the file when called. readlines() method will return all the lines in a file in the format of\n",
    "a list where each element is a line in the file.\n",
    "readline(x) from the point ,pointer of readline is present from that point it will return values that are present on x indexes\n",
    "readlines() returns all data line by line present in the file in form of list'''\n",
    "# readline() and readlines() when we use for the first time it works but for next time it will gives blank string ,empty list respectively\n",
    "# for solve these problem we should use seek(0) function\n",
    "# read() function is used to read all the data from the file\n",
    "file = open(\"file.txt\", \"w\")\n",
    "file.write('India, officially the Republic of India, \\n is a country in South Asia. \\n It is the seventh-largest country by area, the second-most populous country, \\n and the most populous democracy in the world.')\n",
    "file = open(\"file.txt\", \"r\")\n"
   ]
  },
  {
   "cell_type": "code",
   "execution_count": 74,
   "id": "00e68831-7576-4fbe-ae7d-0d3d7221a7a7",
   "metadata": {},
   "outputs": [
    {
     "data": {
      "text/plain": [
       "'India, officially the Republic of India, \\n is a country in South Asia. \\n It is the seventh-largest country by area, the second-most populous country, \\n and the most populous democracy in the world.'"
      ]
     },
     "execution_count": 74,
     "metadata": {},
     "output_type": "execute_result"
    }
   ],
   "source": [
    "file.seek(0)\n",
    "file.read()"
   ]
  },
  {
   "cell_type": "code",
   "execution_count": 66,
   "id": "2136642f-17b7-4329-b2f4-27e31c0d2368",
   "metadata": {},
   "outputs": [
    {
     "data": {
      "text/plain": [
       "['India, officially the Republic of India, \\n',\n",
       " ' is a country in South Asia. \\n',\n",
       " ' It is the seventh-largest country by area, the second-most populous country, \\n',\n",
       " ' and the most populous democracy in the world.']"
      ]
     },
     "execution_count": 66,
     "metadata": {},
     "output_type": "execute_result"
    }
   ],
   "source": [
    "\n",
    "file.readlines()"
   ]
  },
  {
   "cell_type": "code",
   "execution_count": 73,
   "id": "01ad9860-8888-4c27-b808-609dea36f7e2",
   "metadata": {},
   "outputs": [
    {
     "data": {
      "text/plain": [
       "'India'"
      ]
     },
     "execution_count": 73,
     "metadata": {},
     "output_type": "execute_result"
    }
   ],
   "source": [
    "file.readline(5)"
   ]
  },
  {
   "cell_type": "code",
   "execution_count": null,
   "id": "babf5974-f3c4-4e5b-b513-46c00bf5fa9e",
   "metadata": {},
   "outputs": [],
   "source": [
    "\n",
    "Explain why with statement is used with open(). What is the advantage of using with statement and\n",
    "open() together?"
   ]
  },
  {
   "cell_type": "code",
   "execution_count": null,
   "id": "51e9f60d-455a-4be1-8068-94b6916b6d61",
   "metadata": {},
   "outputs": [],
   "source": [
    "# Q5.ANS=>\n",
    "'''when we use open() function then we should close that file calling a close() function but in the case of with statement we don't need to call close\n",
    "function it will close automatically it is the advantage of with statement ''' \n",
    "\n",
    "a=open('test1.txt','w')\n",
    "a.write('I want to become a Data Scientist')\n",
    "# closing the file\n",
    "a.close()\n",
    "b=open('test1.txt','r')\n",
    "b.read()\n",
    "\n",
    "# with statement it will close automatically and print data\n",
    "with open('test10.txt','w') as f:\n",
    "    f.write('I want to become a Data Scientist')\n",
    "\n",
    "with open('test10.txt','r') as f:\n",
    "    print(f.read())"
   ]
  },
  {
   "cell_type": "code",
   "execution_count": null,
   "id": "0ee94f88-85d8-4577-8b30-e78b72e10ff3",
   "metadata": {},
   "outputs": [],
   "source": [
    "# Q5.ANS=>\n",
    "'''The only difference between the write() and writelines() is that write() is used to write a string to an already opened file \n",
    "while writelines() method is used to write a list of strings in an opened file.'''\n"
   ]
  },
  {
   "cell_type": "code",
   "execution_count": 9,
   "id": "3d1ffdd3-cb5a-4673-94b8-6764a829cac6",
   "metadata": {},
   "outputs": [
    {
     "data": {
      "text/plain": [
       "'hello \\n  i am sai'"
      ]
     },
     "execution_count": 9,
     "metadata": {},
     "output_type": "execute_result"
    }
   ],
   "source": [
    "# write() it takes only string as an argument\n",
    "a=open('test13.txt','w')\n",
    "a.write('hello \\n  i am sai')\n",
    "# closing the file\n",
    "a.close()\n",
    "b=open('test13.txt','r')\n",
    "b.read()"
   ]
  },
  {
   "cell_type": "code",
   "execution_count": 12,
   "id": "d0ef7662-b8a2-4c70-b59d-c67914c60810",
   "metadata": {},
   "outputs": [
    {
     "data": {
      "text/plain": [
       "'\\n hellon i am sai'"
      ]
     },
     "execution_count": 12,
     "metadata": {},
     "output_type": "execute_result"
    }
   ],
   "source": [
    "#  writelines() it takes list of string as well as string as an argument\n",
    "a=open('test11.txt','w')\n",
    "a.writelines(['\\n hello', 'n i am sai'])\n",
    "# closing the file\n",
    "a.close()\n",
    "b=open('test11.txt','r')\n",
    "b.read()"
   ]
  },
  {
   "cell_type": "code",
   "execution_count": null,
   "id": "c9186c74-3102-4efe-9c33-c2ab0e4ff8e9",
   "metadata": {},
   "outputs": [],
   "source": []
  }
 ],
 "metadata": {
  "kernelspec": {
   "display_name": "Python 3 (ipykernel)",
   "language": "python",
   "name": "python3"
  },
  "language_info": {
   "codemirror_mode": {
    "name": "ipython",
    "version": 3
   },
   "file_extension": ".py",
   "mimetype": "text/x-python",
   "name": "python",
   "nbconvert_exporter": "python",
   "pygments_lexer": "ipython3",
   "version": "3.10.8"
  }
 },
 "nbformat": 4,
 "nbformat_minor": 5
}
